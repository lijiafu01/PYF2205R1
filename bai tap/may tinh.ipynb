{
 "cells": [
  {
   "cell_type": "code",
   "execution_count": 1,
   "id": "3a7c713c",
   "metadata": {},
   "outputs": [
    {
     "ename": "AttributeError",
     "evalue": "'Turtle' object has no attribute 'mainloop'",
     "output_type": "error",
     "traceback": [
      "\u001b[1;31m---------------------------------------------------------------------------\u001b[0m",
      "\u001b[1;31mAttributeError\u001b[0m                            Traceback (most recent call last)",
      "\u001b[1;32m<ipython-input-1-7dedaf8c05ad>\u001b[0m in \u001b[0;36m<module>\u001b[1;34m\u001b[0m\n\u001b[0;32m     48\u001b[0m \u001b[0mt\u001b[0m\u001b[1;33m.\u001b[0m\u001b[0mend_fill\u001b[0m\u001b[1;33m(\u001b[0m\u001b[1;33m)\u001b[0m\u001b[1;33m\u001b[0m\u001b[1;33m\u001b[0m\u001b[0m\n\u001b[0;32m     49\u001b[0m \u001b[0mt\u001b[0m\u001b[1;33m.\u001b[0m\u001b[0mfd\u001b[0m\u001b[1;33m(\u001b[0m\u001b[1;36m10\u001b[0m\u001b[1;33m)\u001b[0m\u001b[1;33m\u001b[0m\u001b[1;33m\u001b[0m\u001b[0m\n\u001b[1;32m---> 50\u001b[1;33m \u001b[0mt\u001b[0m\u001b[1;33m.\u001b[0m\u001b[0mmainloop\u001b[0m\u001b[1;33m(\u001b[0m\u001b[1;33m)\u001b[0m\u001b[1;33m\u001b[0m\u001b[1;33m\u001b[0m\u001b[0m\n\u001b[0m",
      "\u001b[1;31mAttributeError\u001b[0m: 'Turtle' object has no attribute 'mainloop'"
     ]
    }
   ],
   "source": [
    "import turtle\n",
    "import random\n",
    "t=turtle.Turtle()\n",
    "t.speed(0)\n",
    "t.up()\n",
    "t.goto(-280,310)\n",
    "t.down()\n",
    "t.rt(90)\n",
    "t.fd(620)\n",
    "t.up()\n",
    "t.goto(-290,310)\n",
    "t.down()\n",
    "t.fd(620)\n",
    "t.up()\n",
    "t.goto(-290,310)\n",
    "t.down()\n",
    "t.lt(45)\n",
    "for i in range(31):\n",
    "    t.fd(10*2**0.5)\n",
    "    t.rt(90)\n",
    "    t.fd(10*2**0.5)\n",
    "    t.lt(90)\n",
    "t.up()\n",
    "t.goto(280,310)\n",
    "t.down()\n",
    "t.rt(45)\n",
    "t.fd(620)\n",
    "t.up()\n",
    "t.goto(-350,240)\n",
    "t.down\n",
    "t.begin_fill()\n",
    "t.fillcolor('red')\n",
    "t.circle(20)\n",
    "t.end_fill()\n",
    "t.up()\n",
    "t.goto(-350,-240)\n",
    "t.down\n",
    "t.begin_fill()\n",
    "t.fillcolor('green')\n",
    "t.circle(20)\n",
    "t.end_fill()\n",
    "t.up()\n",
    "t.goto(-350,0)\n",
    "t.down\n",
    "t.begin_fill()\n",
    "t.fillcolor('black')\n",
    "t.circle(20)\n",
    "t.end_fill()\n",
    "t.fd(10)\n"
   ]
  },
  {
   "cell_type": "code",
   "execution_count": null,
   "id": "9737591b",
   "metadata": {},
   "outputs": [
    {
     "name": "stdout",
     "output_type": "stream",
     "text": [
      "chúc mừng rùa đỏ cán đích đầu đầu tiên !\n",
      "với thời gian chạy là : 5.699975252151489 s\n"
     ]
    }
   ],
   "source": [
    "import turtle as t\n",
    "import random\n",
    "import time\n",
    "\n",
    "def random_walk(turtles):\n",
    "    global run\n",
    "    for turtle in turtles:\n",
    "        turtle.forward(random.randint(1, 10))\n",
    "        # Kiểm tra điều kiện cán đích\n",
    "        # Khi 1 con cán đích thì dừng lại\n",
    "        if turtle.xcor() > 250:\n",
    "            \n",
    "            run = False\n",
    "\n",
    "# Tạo khung cảnh và vẽ các cột mốc bên trái đường đua\n",
    "screen = t.Screen()\n",
    "screen.setup(height=500, width=600)\n",
    "pen = t.Turtle(visible=False)\n",
    "pen.penup()\n",
    "pen.speed(0)\n",
    "pen.goto(-250, 200)\n",
    "for i in range(21):\n",
    "    pen.write(i)\n",
    "    pen.forward(25)\n",
    "\n",
    "# Vẽ các đường đứt đoạn trên đường đua và\n",
    "# đánh dấu các cột mốc bên phải đường đua\n",
    "x = -250\n",
    "pen.goto(-250, 200)\n",
    "pen.right(90)\n",
    "for i in range(21):\n",
    "    for j in range(10):\n",
    "        pen.pendown()\n",
    "        pen.forward(20)\n",
    "        pen.penup()\n",
    "        pen.forward(10)\n",
    "    pen.penup()\n",
    "    pen.forward(5)\n",
    "    pen.write(i)\n",
    "    pen.goto(x + (i + 1) * 25, 200)\n",
    "    \n",
    "all_turtles = []\n",
    "y_position = [160, 100, 40, -20]\n",
    "colors = ['red', 'green', 'blue', 'black']\n",
    "for turtle in range(0, 4):\n",
    "    turtles = t.Turtle(shape=\"turtle\")\n",
    "    turtles.penup()\n",
    "    # Di chuyển rùa về vị trí ban đầu,\n",
    "    # bên trái cùng của đường đua\n",
    "    turtles.goto(x=-250, y=y_position[turtle])\n",
    "    # Màu của rùa\n",
    "    turtles.color(colors[turtle])\n",
    "    for i in range(5):\n",
    "        turtles.left(72)\n",
    "    # Lưu vào list\n",
    "    all_turtles.append(turtles)\n",
    "run = True\n",
    "ticks = time.time()  \n",
    "while run:\n",
    "    a=0\n",
    "    random_walk(all_turtles)\n",
    "    if run == False:\n",
    "        if a==0:\n",
    "            print('chúc mừng rùa đỏ cán đích đầu đầu tiên !')\n",
    "        elif a==1:\n",
    "            print('chúc mừng rùa xanh lục cán đích đầu đầu tiên !')\n",
    "        elif a==2:\n",
    "            print('chúc mừng rùa xanh dương cán đích đầu đầu tiên !')\n",
    "        else:\n",
    "            print('chúc mừng rùa đen cán đích đầu đầu tiên !')\n",
    "    a+=1\n",
    "    if a==4:\n",
    "        a=0\n",
    "a = time.time()\n",
    "print('với thời gian chạy là :',a-ticks,'s')\n",
    "screen.exitonclick()"
   ]
  },
  {
   "cell_type": "code",
   "execution_count": 6,
   "id": "643431de",
   "metadata": {},
   "outputs": [
    {
     "name": "stdout",
     "output_type": "stream",
     "text": [
      "Number of ticks since 12:00am, January 1, 1970:  1661517057.7784657\n",
      "0.04786038398742676\n"
     ]
    }
   ],
   "source": [
    "import time\n",
    "\n",
    "# Số giây tính từ 12h sáng ngày 1-1-1970 tới hiện tại.\n",
    "ticks = time.time()  \n",
    "print (\"Number of ticks since 12:00am, January 1, 1970: \", ticks)  \n",
    "b=0\n",
    "while b<100000:\n",
    "    if b==99999:\n",
    "        a = time.time()\n",
    "        print(a-ticks)\n",
    "    b+=1"
   ]
  },
  {
   "cell_type": "code",
   "execution_count": null,
   "id": "e893f968",
   "metadata": {},
   "outputs": [],
   "source": []
  }
 ],
 "metadata": {
  "kernelspec": {
   "display_name": "Python 3",
   "language": "python",
   "name": "python3"
  },
  "language_info": {
   "codemirror_mode": {
    "name": "ipython",
    "version": 3
   },
   "file_extension": ".py",
   "mimetype": "text/x-python",
   "name": "python",
   "nbconvert_exporter": "python",
   "pygments_lexer": "ipython3",
   "version": "3.8.8"
  }
 },
 "nbformat": 4,
 "nbformat_minor": 5
}
