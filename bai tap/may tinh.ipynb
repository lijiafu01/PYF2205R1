{
 "cells": [
  {
   "cell_type": "code",
   "execution_count": null,
   "id": "ff8aaf94",
   "metadata": {},
   "outputs": [],
   "source": [
    "import turtle\n",
    "t=turtle.Turtle()\n",
    "t.speed(0)\n",
    "def chunhat(x,y,c):\n",
    "    for i in range(3):\n",
    "        for j in range(5):\n",
    "            t.pencolor(c)\n",
    "            t.begin_fill()\n",
    "            t.up()\n",
    "            t.goto(x,y)\n",
    "            t.down()\n",
    "            t.fd(30)\n",
    "            t.lt(90)\n",
    "            t.fd(50)\n",
    "            t.lt(90)\n",
    "            t.fd(30)\n",
    "            t.lt(90)\n",
    "            t.fd(50)\n",
    "            t.lt(90)\n",
    "            t.lt(45)\n",
    "            t.end_fill()\n",
    "            t.up()\n",
    "            t.fd(10*2**0.5)\n",
    "            t.down()\n",
    "            t.rt(45)\n",
    "            t.fd(10)\n",
    "            t.lt(90)\n",
    "            t.fd(20)\n",
    "            t.lt(90)\n",
    "            t.fd(10)\n",
    "            t.lt(90)\n",
    "            t.fd(20)\n",
    "            t.lt(90)\n",
    "            t.lt(45)\n",
    "            t.rt(45)\n",
    "            y=y+50\n",
    "        x=x+30\n",
    "        y=0\n",
    "chunhat(-120,0,'green')\n",
    "chunhat(0,0,'red')\n",
    "chunhat(120,0,'blue')"
   ]
  },
  {
   "cell_type": "code",
   "execution_count": null,
   "id": "d93a9ce4",
   "metadata": {},
   "outputs": [
    {
     "name": "stdout",
     "output_type": "stream",
     "text": [
      "nhập (1) để xem danh sách đã chi tiêu trong hôm nay\n",
      "nhập (2) để thêm sự kiện bạn đã chi tiêu trong danh sách\n",
      "nhập (3) để thêm một sự kiện mới vào danh sách chi tiêu\n",
      "nhập (4) để xóa sự kiện trong danh sách chi tiêu\n",
      "mời bạn nhập số 1-4 để chọn các tính năng, nhập 0 để thoát: 2\n",
      "Mời bạn nhập tên sự kiện đã chi tiêu: ăn tối\n",
      "Sự kiện ăn tối đã được lưu vào danh sách chi tiêu hôm nay !\n",
      "mời bạn nhập số 1-4 để chọn các tính năng, nhập 0 để thoát: 1\n",
      "Hôm nay bạn đã tiêu: 50000 vnd\n",
      "Dưới đây là danh sách đã chi tiêu trong hôm nay: \n",
      "ăn tối: 50000\n"
     ]
    }
   ],
   "source": [
    "dic = {'ăn sáng':30000,'xăng xe':50000,'đồ uống':20000,'ăn trưa':50000,'đồ ăn vặt':20000,'ăn tối':50000}\n",
    "dic1 = {}\n",
    "def tongchitieu(dic1):\n",
    "    s=0\n",
    "    for i in dic1:\n",
    "        s+=dic[i]\n",
    "    return s\n",
    "def danhsachdatieu(dic1):\n",
    "    for i in dic1:\n",
    "        print(i+': '+str(dic1[i]))\n",
    "    \n",
    "print('nhập (1) để xem danh sách đã chi tiêu trong hôm nay')\n",
    "print('nhập (2) để thêm sự kiện bạn đã chi tiêu trong danh sách')\n",
    "print('nhập (3) để thêm một sự kiện mới vào danh sách chi tiêu')\n",
    "print('nhập (4) để xóa sự kiện trong danh sách chi tiêu')\n",
    "while True:\n",
    "    a=int(input('mời bạn nhập số 1-4 để chọn các tính năng, nhập 0 để thoát: '))\n",
    "    if a==1:\n",
    "        b= tongchitieu(dic1)\n",
    "        print('Hôm nay bạn đã tiêu: '+str(b)+' vnd')\n",
    "        print('Dưới đây là danh sách đã chi tiêu trong hôm nay: ')\n",
    "        danhsachdatieu(dic1)\n",
    "    elif a==2:\n",
    "        name = str(input('Mời bạn nhập tên sự kiện đã chi tiêu: '))\n",
    "        print('Sự kiện '+name+' đã được lưu vào danh sách chi tiêu hôm nay !')\n",
    "        dic1[name]=dic[name]\n",
    "    elif a==3:\n",
    "        new_name = str(input('Mời bạn nhập tên sự kiện mới:'))\n",
    "        name_value = int(input('Mời bạn nhập giá trị cho sự kiện mới xxx vnd: '))\n",
    "        dic[new_name] = name_value\n",
    "        print('Bạn đã thành công thêm '+new_name+' với giá trị là '+str(name_value)+'!')\n",
    "        \n",
    "    elif a==0:\n",
    "        print('Cám ơn bạn đã sử dụng dịch vụ!')\n",
    "        break\n",
    "    "
   ]
  },
  {
   "cell_type": "code",
   "execution_count": 3,
   "id": "7e6568e8",
   "metadata": {},
   "outputs": [
    {
     "name": "stdout",
     "output_type": "stream",
     "text": [
      "30000\n",
      "50000\n",
      "20000\n",
      "50000\n",
      "20000\n",
      "50000\n"
     ]
    }
   ],
   "source": [
    "dic = {'ăn sáng':30000,'xăng xe':50000,'đồ uống':20000,'ăn trưa':50000,'đồ ăn vặt':20000,'ăn tối':50000}\n",
    "dic1 = {}\n",
    "dic1['ăn sáng'] = dic['ăn sáng']\n",
    "dic1['đồ uống'] = dic['đồ uống']\n",
    "for i in dic:\n",
    "    print(dic[i])\n",
    "    "
   ]
  },
  {
   "cell_type": "code",
   "execution_count": 3,
   "id": "2d9bc8af",
   "metadata": {},
   "outputs": [
    {
     "name": "stdout",
     "output_type": "stream",
     "text": [
      "123\n"
     ]
    }
   ],
   "source": [
    "print(123)"
   ]
  },
  {
   "cell_type": "code",
   "execution_count": null,
   "id": "e30d60b1",
   "metadata": {},
   "outputs": [],
   "source": []
  }
 ],
 "metadata": {
  "kernelspec": {
   "display_name": "Python 3",
   "language": "python",
   "name": "python3"
  },
  "language_info": {
   "codemirror_mode": {
    "name": "ipython",
    "version": 3
   },
   "file_extension": ".py",
   "mimetype": "text/x-python",
   "name": "python",
   "nbconvert_exporter": "python",
   "pygments_lexer": "ipython3",
   "version": "3.8.8"
  }
 },
 "nbformat": 4,
 "nbformat_minor": 5
}
