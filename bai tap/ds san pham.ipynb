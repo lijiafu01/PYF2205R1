{
 "cells": [
  {
   "cell_type": "code",
   "execution_count": 1,
   "id": "d0a36bed",
   "metadata": {},
   "outputs": [
    {
     "name": "stdout",
     "output_type": "stream",
     "text": [
      "Nhập (1) để hiển thị danh sách sản phẩm\n",
      "Nhập (2) để Thêm sản phẩm mới vào danh sách\n",
      "Nhập (3) để sửa tên của sản phẩm trong danh sách\n",
      "Nhập (4) để xoá một sản phẩm khỏi danh sách\n",
      "Nhập (0) để thoát\n",
      "mời bạn nhập các tính năng từ 1-4: 1\n",
      "Danh sách sản phẩm:\n",
      "chuối\n",
      "dưa\n",
      "cam\n",
      "vải\n",
      "dâu\n",
      "mời bạn nhập các tính năng từ 1-4: 0\n",
      "cám ơn bạn đã sử dụng dịch vụ!\n"
     ]
    }
   ],
   "source": [
    "dic = {1:'chuối',2:'dưa',3:'cam',4:'vải',5:'dâu'}\n",
    "print('Nhập (1) để hiển thị danh sách sản phẩm')\n",
    "print('Nhập (2) để Thêm sản phẩm mới vào danh sách')\n",
    "print('Nhập (3) để sửa tên của sản phẩm trong danh sách')\n",
    "print('Nhập (4) để xoá một sản phẩm khỏi danh sách')\n",
    "print('Nhập (0) để thoát')\n",
    "while True:\n",
    "    a=int(input('mời bạn nhập các tính năng từ 1-4: '))\n",
    "    if a==1:\n",
    "        print('Danh sách các sản phẩm:')\n",
    "        for i in dic:\n",
    "            print(dic[i])\n",
    "    elif a==2:\n",
    "        key = str(input('mời bạn nhập tên sản phẩm mới'))\n",
    "        value = len(dic)+1\n",
    "        dic[key] = value\n",
    "        print('Bạn đã thêm sản phẩm',key,'với mã số id là',value)\n",
    "    elif a==3:\n",
    "        s = int(input('mời nhập id sản phẩm mà bạn muốn sửa: '))\n",
    "        for i in dic:\n",
    "            if i==s:\n",
    "                dic[i]=str(input('mời nhập sản phẩm mới: '))\n",
    "    elif a==4:\n",
    "        x = int(input('mời nhập id sản phẩm mà bạn muốn xóa'))\n",
    "        dic.pop(x)\n",
    "    else:\n",
    "        print('cám ơn bạn đã sử dụng dịch vụ!')\n",
    "        break"
   ]
  }
 ],
 "metadata": {
  "kernelspec": {
   "display_name": "Python 3",
   "language": "python",
   "name": "python3"
  },
  "language_info": {
   "codemirror_mode": {
    "name": "ipython",
    "version": 3
   },
   "file_extension": ".py",
   "mimetype": "text/x-python",
   "name": "python",
   "nbconvert_exporter": "python",
   "pygments_lexer": "ipython3",
   "version": "3.8.8"
  }
 },
 "nbformat": 4,
 "nbformat_minor": 5
}
