{
 "cells": [
  {
   "cell_type": "code",
   "execution_count": 1,
   "id": "908cb5b0",
   "metadata": {},
   "outputs": [
    {
     "name": "stdout",
     "output_type": "stream",
     "text": [
      "tôi\n",
      "2\n"
     ]
    }
   ],
   "source": [
    "def dem(vb,s):\n",
    "    count=0\n",
    "    for i in range(len(vb)):\n",
    "        if s[i:i+len(s)]==s:\n",
    "            count+=1\n",
    "    return count      \n",
    "a=str(input())\n",
    "vb=''''Trưởng phòng tôi là người sâu sắc,\n",
    "lại cũng lắm sáng kiến đến cái mức có khi bọn chúng tôi trong cơ quan phát mệt vì anh.\n",
    "Trước đây chừng dăm tháng, để chuẩn bị cho tấm lịch năm sau,\n",
    "anh tỏ ý không bằng lòng với cách làm ăn từ trước tới giờ - Sang năm chúng ta sẽ đem đến cho mỗi gia đình một bộ sưu tập \n",
    "chuyên đề về thuyền và biển - anh nói quả quyết - Thôi, bỏ cái lối mỗi thứ một tí đi. \n",
    "Phải có một bộ sưu tập chuyên đề. 12 tháng là 12 bức ảnh nghệ thuật về thuyền và biển. Không có người. \n",
    "Hoàn toàn thế giới tĩnh vật.'''\n",
    "l=['.',',' , '?' , '-' ,  '!','', ':']\n",
    "c=0\n",
    "for i in vb:\n",
    "    for j in l:      \n",
    "        if i ==j:\n",
    "            vb = vb.replace(i, ' ')\n",
    "vb=vb.split()\n",
    "for i in range(len(vb)):\n",
    "    if vb[i]==a:\n",
    "        c+=1\n",
    "print(c)"
   ]
  }
 ],
 "metadata": {
  "kernelspec": {
   "display_name": "Python 3",
   "language": "python",
   "name": "python3"
  },
  "language_info": {
   "codemirror_mode": {
    "name": "ipython",
    "version": 3
   },
   "file_extension": ".py",
   "mimetype": "text/x-python",
   "name": "python",
   "nbconvert_exporter": "python",
   "pygments_lexer": "ipython3",
   "version": "3.8.8"
  }
 },
 "nbformat": 4,
 "nbformat_minor": 5
}
