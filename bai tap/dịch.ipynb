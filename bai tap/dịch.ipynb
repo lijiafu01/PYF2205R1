{
 "cells": [
  {
   "cell_type": "code",
   "execution_count": 7,
   "id": "8fda5047",
   "metadata": {},
   "outputs": [
    {
     "name": "stdout",
     "output_type": "stream",
     "text": [
      "nhập từ cần dịch: xin chào\n",
      "你好\n"
     ]
    }
   ],
   "source": [
    "#dịch tiếng trung\n",
    "\n",
    "dic={'xin chào':'你好','tôi':'我','là':'是','Việt Nam':'越南','người':'人'}\n",
    "a=str(input('nhập từ cần dịch: '))\n",
    "for i in dic:\n",
    "    if a==i:\n",
    "        print(dic[i])"
   ]
  }
 ],
 "metadata": {
  "kernelspec": {
   "display_name": "Python 3",
   "language": "python",
   "name": "python3"
  },
  "language_info": {
   "codemirror_mode": {
    "name": "ipython",
    "version": 3
   },
   "file_extension": ".py",
   "mimetype": "text/x-python",
   "name": "python",
   "nbconvert_exporter": "python",
   "pygments_lexer": "ipython3",
   "version": "3.8.8"
  }
 },
 "nbformat": 4,
 "nbformat_minor": 5
}
