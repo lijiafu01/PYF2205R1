{
 "cells": [
  {
   "cell_type": "code",
   "execution_count": 2,
   "id": "15ab85c9",
   "metadata": {},
   "outputs": [
    {
     "ename": "SyntaxError",
     "evalue": "invalid syntax (<ipython-input-2-808f9d31b9b0>, line 1)",
     "output_type": "error",
     "traceback": [
      "\u001b[1;36m  File \u001b[1;32m\"<ipython-input-2-808f9d31b9b0>\"\u001b[1;36m, line \u001b[1;32m1\u001b[0m\n\u001b[1;33m    Kết quả hàm sau :\u001b[0m\n\u001b[1;37m        ^\u001b[0m\n\u001b[1;31mSyntaxError\u001b[0m\u001b[1;31m:\u001b[0m invalid syntax\n"
     ]
    }
   ],
   "source": [
    "Kết quả hàm sau :\n",
    "\n",
    "total={}\n",
    "\n",
    "def insert(items):\n",
    "\n",
    "    if items in total:\n",
    "\n",
    "        total[items] += 1\n",
    "\n",
    "    else:\n",
    "\n",
    "        total[items] = 1\n",
    "\n",
    "insert(‘Apple’)\n",
    "\n",
    "insert(‘Ball’)\n",
    "\n",
    "insert(‘Apple’)\n",
    "\n",
    "print (len(total))"
   ]
  },
  {
   "cell_type": "code",
   "execution_count": null,
   "id": "f1b7aec2",
   "metadata": {},
   "outputs": [],
   "source": []
  }
 ],
 "metadata": {
  "kernelspec": {
   "display_name": "Python 3",
   "language": "python",
   "name": "python3"
  },
  "language_info": {
   "codemirror_mode": {
    "name": "ipython",
    "version": 3
   },
   "file_extension": ".py",
   "mimetype": "text/x-python",
   "name": "python",
   "nbconvert_exporter": "python",
   "pygments_lexer": "ipython3",
   "version": "3.8.8"
  }
 },
 "nbformat": 4,
 "nbformat_minor": 5
}
