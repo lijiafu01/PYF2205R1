{
 "cells": [
  {
   "cell_type": "code",
   "execution_count": 16,
   "id": "00329764",
   "metadata": {},
   "outputs": [
    {
     "name": "stdout",
     "output_type": "stream",
     "text": [
      "hai số lớn nhất là:  7 6\n"
     ]
    }
   ],
   "source": [
    "l = [3,1,2,5,6,4,7]\n",
    "for i in range(0,len(l)-1):\n",
    "    for j in range(i+1,len(l)):\n",
    "        if l[i]>l[j]:\n",
    "            a=l[j]\n",
    "            l[j]=l[i]\n",
    "            l[i]=a\n",
    "print('hai số lớn nhất là: ',l[-1],l[-2])"
   ]
  }
 ],
 "metadata": {
  "kernelspec": {
   "display_name": "Python 3",
   "language": "python",
   "name": "python3"
  },
  "language_info": {
   "codemirror_mode": {
    "name": "ipython",
    "version": 3
   },
   "file_extension": ".py",
   "mimetype": "text/x-python",
   "name": "python",
   "nbconvert_exporter": "python",
   "pygments_lexer": "ipython3",
   "version": "3.8.8"
  }
 },
 "nbformat": 4,
 "nbformat_minor": 5
}
