{
 "cells": [
  {
   "cell_type": "code",
   "execution_count": null,
   "id": "60a72c75",
   "metadata": {},
   "outputs": [],
   "source": [
    "dic = {'ăn sáng':30000,'xăng xe':50000,'đồ uống':20000,'ăn trưa':50000,'đồ ăn vặt':20000,'ăn tối':50000}\n",
    "dic1 = {}\n",
    "def tongchitieu(dic1):\n",
    "    s=0\n",
    "    for i in dic1:\n",
    "        s+=dic[i]\n",
    "    return s\n",
    "def danhsachdatieu(dic1):\n",
    "    for i in dic1:\n",
    "        print(i+': '+str(dic1[i]))\n",
    "    \n",
    "print('nhập (1) để xem danh sách đã chi tiêu trong hôm nay')\n",
    "print('nhập (2) để thêm sự kiện bạn đã chi tiêu trong danh sách')\n",
    "print('nhập (3) để thêm một sự kiện mới vào danh sách chi tiêu')\n",
    "print('nhập (4) để xóa sự kiện trong danh sách chi tiêu')\n",
    "while True:\n",
    "    a=int(input('mời bạn nhập số 1-4 để chọn các tính năng, nhập 0 để thoát: '))\n",
    "    if a==1:\n",
    "        b= tongchitieu(dic1)\n",
    "        print('Hôm nay bạn đã tiêu: '+str(b)+' vnd')\n",
    "        print('Dưới đây là danh sách bạn đã tiêu trong hôm nay: ')\n",
    "        danhsachdatieu(dic1)\n",
    "    elif a==2:\n",
    "        name = str(input('Mời bạn nhập tên sự kiện đã chi tiêu: '))\n",
    "        print('Sự kiện '+name+' đã được lưu vào danh sách chi tiêu hôm nay !')\n",
    "        dic1[name]=dic[name]\n",
    "    elif a==3:\n",
    "        new_name = str(input('Mời bạn nhập tên sự kiện mới:'))\n",
    "        name_value = int(input('Mời bạn nhập giá trị cho sự kiện mới xxx vnd: '))\n",
    "        dic[new_name] = name_value\n",
    "        print('Bạn đã thành công thêm '+new_name+' với giá trị là '+str(name_value)+'!')\n",
    "        \n",
    "    elif a==0:\n",
    "        print('Cám ơn bạn đã sử dụng dịch vụ!')\n",
    "        break"
   ]
  }
 ],
 "metadata": {
  "kernelspec": {
   "display_name": "Python 3",
   "language": "python",
   "name": "python3"
  },
  "language_info": {
   "codemirror_mode": {
    "name": "ipython",
    "version": 3
   },
   "file_extension": ".py",
   "mimetype": "text/x-python",
   "name": "python",
   "nbconvert_exporter": "python",
   "pygments_lexer": "ipython3",
   "version": "3.8.8"
  }
 },
 "nbformat": 4,
 "nbformat_minor": 5
}
