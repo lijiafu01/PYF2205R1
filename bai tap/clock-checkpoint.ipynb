{
 "cells": [
  {
   "cell_type": "code",
   "execution_count": null,
   "id": "6fc7afa5",
   "metadata": {},
   "outputs": [],
   "source": [
    "Xây dựng ứng dụng quản lý sinh viên với các chức năng cơ bản sau:\n",
    "    \n",
    "    \n",
    "Xem danh mục sinh viên\n",
    "Thêm sinh viên mới vào danh mục\n",
    "Cập nhật thông tin của sinh viên trong danh mục\n",
    "Xóa thông tin sinh viên khỏi danh mục\n",
    "Tìm kiếm thông tin sinh viên trong danh mục theo từ khóa\n",
    "Sắp xếp thông tin sinh viên trong danh mục\n",
    "\n",
    "\n",
    "Hướng dẫn\n",
    "Xây dựng lớp Student với các thuộc tính như mã sinh viên, họ tên, \n",
    "ngày tháng năm sinh, quê quán, chuyên ngành, lớp…Chức năng chính của lớp này là lưu giữ thông tin của 1 sinh viên\n",
    "\n",
    "Xây dựng lớp danh mục sinh viên (Student_List) với thuộc tính là một List\n",
    "các đối tượng của lớp Student vừa xây dựng ở trên. Lớp này có các hàm thành \n",
    "viên tương ứng với các chức năng như đề bài yêu cầu. Mỗi hàm chức năng đều thao \n",
    "tác trên thuộc tính List sinh viên của lớp này. "
   ]
  },
  {
   "cell_type": "code",
   "execution_count": null,
   "id": "b0660c73",
   "metadata": {
    "scrolled": true
   },
   "outputs": [
    {
     "name": "stdout",
     "output_type": "stream",
     "text": [
      "2\n",
      "nhập mã số123\n",
      "mời nhập họ và tênfd\n",
      "mời nhập ngày tháng năm sinh,yyyy/mm/ddfdxs\n",
      "mời bạn nhập quê quánffds\n",
      "mời bạn nhập chuyên ngànhfds\n",
      "mời bạn nhập tên lớpfdx\n",
      "fef\n"
     ]
    }
   ],
   "source": [
    "dic={}\n",
    "st_l = []\n",
    "lit = []\n",
    "class Student():\n",
    "    def __init__(self,ms,ht,date,qq,cn,lop):\n",
    "        self.ma_so = ms\n",
    "        self.ho_ten = ht\n",
    "        self.date = date\n",
    "        self.que_quan = qq\n",
    "        self.nganh = cn\n",
    "        self.lop = lop\n",
    "    def check(self):\n",
    "        print(self.ma_so)\n",
    "        print(self.ho_ten)\n",
    "        print(self.date)\n",
    "        print(self.que_quan)\n",
    "        print(self.nganh)\n",
    "        print(self.lop)\n",
    "        \n",
    "        \n",
    "while True:\n",
    "    a = int(input())\n",
    "    if a==1:\n",
    "        if st_l==[]:\n",
    "            print('danh sách trống')\n",
    "        else:\n",
    "            for i in st_l:\n",
    "                i.check()\n",
    "                print('')\n",
    "    if a==2:\n",
    "        ms = str(input('nhập mã số'))\n",
    "        ht = str(input('mời nhập họ và tên'))\n",
    "        date = str(input('mời nhập ngày tháng năm sinh,yyyy/mm/dd'))\n",
    "        qq = str(input('mời bạn nhập quê quán'))\n",
    "        cn = str(input('mời bạn nhập chuyên ngành'))\n",
    "        lop = str(input('mời bạn nhập tên lớp'))\n",
    "        lit.append(ms)\n",
    "        ms = Student(ms,ht,date,qq,cn,lop)\n",
    "        st_l.append(ms)\n",
    "    if a==3:\n",
    "        cap_nhat = str(input('mời bạn nhập mã số sinh viên cần cập nhật: '))\n",
    "        for i in lit:\n",
    "            if i == cap_nhat:\n",
    "                print('mời bạn nhập các thông tin cập nhật')\n",
    "                ht = str(input('mời nhập họ và tên'))\n",
    "                date = str(input('mời nhập ngày tháng năm sinh,yyyy/mm/dd'))\n",
    "                qq = str(input('mời bạn nhập quê quán'))\n",
    "                cn = str(input('mời bạn nhập chuyên ngành'))\n",
    "                lop = str(input('mời bạn nhập tên lớp'))\n",
    "                for i in st_l:\n",
    "                    if i.ma_so == cap_nhat:\n",
    "                        print('haha')\n",
    "                        i = Student(cap_nhat,ht,date,qq,cn,lop)\n",
    "                \n"
   ]
  },
  {
   "cell_type": "markdown",
   "id": "42e43f4a",
   "metadata": {},
   "source": [
    "### "
   ]
  }
 ],
 "metadata": {
  "kernelspec": {
   "display_name": "Python 3",
   "language": "python",
   "name": "python3"
  },
  "language_info": {
   "codemirror_mode": {
    "name": "ipython",
    "version": 3
   },
   "file_extension": ".py",
   "mimetype": "text/x-python",
   "name": "python",
   "nbconvert_exporter": "python",
   "pygments_lexer": "ipython3",
   "version": "3.8.8"
  }
 },
 "nbformat": 4,
 "nbformat_minor": 5
}
