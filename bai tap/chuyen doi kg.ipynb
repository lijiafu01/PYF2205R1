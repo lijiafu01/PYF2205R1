{
 "cells": [
  {
   "cell_type": "code",
   "execution_count": null,
   "id": "bd31438f",
   "metadata": {},
   "outputs": [],
   "source": [
    "from tkinter import *\n",
    "sc = Tk()\n",
    "sc.title(\"Demo\")\n",
    "\n",
    "def click():\n",
    "    nd = int(nd1.get())\n",
    "    nd = nd*1000\n",
    "    lb2 = Label(sc,text='gram: '+str(nd))\n",
    "    lb2.grid(column=2,row=2)\n",
    "    \n",
    "nd1 = StringVar()\n",
    "\n",
    "lb1 = Label(sc,text='mời bạn nhập số (kg):')\n",
    "et1 = Entry(sc,textvariable = nd1)\n",
    "bt1 = Button(sc,text='chuyển đổi',command = click)\n",
    "\n",
    "\n",
    "\n",
    "lb1.grid(column=1,row=1)\n",
    "et1.grid(column=2,row=1)\n",
    "bt1.grid(column=3,row=1)\n",
    "\n",
    "sc.mainloop()"
   ]
  },
  {
   "cell_type": "code",
   "execution_count": null,
   "id": "a1a6fc4c",
   "metadata": {},
   "outputs": [],
   "source": []
  }
 ],
 "metadata": {
  "kernelspec": {
   "display_name": "Python 3",
   "language": "python",
   "name": "python3"
  },
  "language_info": {
   "codemirror_mode": {
    "name": "ipython",
    "version": 3
   },
   "file_extension": ".py",
   "mimetype": "text/x-python",
   "name": "python",
   "nbconvert_exporter": "python",
   "pygments_lexer": "ipython3",
   "version": "3.8.8"
  }
 },
 "nbformat": 4,
 "nbformat_minor": 5
}
