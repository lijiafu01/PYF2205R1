{
 "cells": [
  {
   "cell_type": "code",
   "execution_count": 3,
   "id": "311b39ff",
   "metadata": {},
   "outputs": [
    {
     "name": "stdout",
     "output_type": "stream",
     "text": [
      "hahahaha\n",
      "8\n"
     ]
    }
   ],
   "source": [
    "def dem(s):\n",
    "    count=0;\n",
    "    for i in s:\n",
    "        count+=1\n",
    "    return count\n",
    "a=str(input())\n",
    "print(dem(a))"
   ]
  },
  {
   "cell_type": "code",
   "execution_count": null,
   "id": "a6c767ed",
   "metadata": {},
   "outputs": [],
   "source": []
  }
 ],
 "metadata": {
  "kernelspec": {
   "display_name": "Python 3",
   "language": "python",
   "name": "python3"
  },
  "language_info": {
   "codemirror_mode": {
    "name": "ipython",
    "version": 3
   },
   "file_extension": ".py",
   "mimetype": "text/x-python",
   "name": "python",
   "nbconvert_exporter": "python",
   "pygments_lexer": "ipython3",
   "version": "3.8.8"
  }
 },
 "nbformat": 4,
 "nbformat_minor": 5
}
