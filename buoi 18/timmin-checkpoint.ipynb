{
 "cells": [
  {
   "cell_type": "code",
   "execution_count": 6,
   "id": "015f1745",
   "metadata": {},
   "outputs": [
    {
     "name": "stdout",
     "output_type": "stream",
     "text": [
      "4567345678\n",
      "3\n"
     ]
    }
   ],
   "source": [
    "def K(s):\n",
    "    mi=int(s[0])\n",
    "    for i in s:\n",
    "        if int(i)<mi:\n",
    "            mi=int(i)\n",
    "    return mi\n",
    "a=str(input())\n",
    "print(K(a))"
   ]
  },
  {
   "cell_type": "code",
   "execution_count": null,
   "id": "9f1bc9cf",
   "metadata": {},
   "outputs": [],
   "source": []
  },
  {
   "cell_type": "code",
   "execution_count": null,
   "id": "542ff0ea",
   "metadata": {},
   "outputs": [],
   "source": [
    "76523456876"
   ]
  }
 ],
 "metadata": {
  "kernelspec": {
   "display_name": "Python 3",
   "language": "python",
   "name": "python3"
  },
  "language_info": {
   "codemirror_mode": {
    "name": "ipython",
    "version": 3
   },
   "file_extension": ".py",
   "mimetype": "text/x-python",
   "name": "python",
   "nbconvert_exporter": "python",
   "pygments_lexer": "ipython3",
   "version": "3.8.8"
  }
 },
 "nbformat": 4,
 "nbformat_minor": 5
}
