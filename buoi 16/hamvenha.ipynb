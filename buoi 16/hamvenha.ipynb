{
 "cells": [
  {
   "cell_type": "code",
   "execution_count": 1,
   "id": "635e653b",
   "metadata": {},
   "outputs": [],
   "source": [
    "import turtle\n",
    "t=turtle.Turtle()\n",
    "t.speed(0)\n",
    "def chunhat(x,y,c):\n",
    "    for i in range(3):\n",
    "        for j in range(5):\n",
    "            t.pencolor(c)\n",
    "            t.begin_fill()\n",
    "            t.up()\n",
    "            t.goto(x,y)\n",
    "            t.down()\n",
    "            t.fd(30)\n",
    "            t.lt(90)\n",
    "            t.fd(50)\n",
    "            t.lt(90)\n",
    "            t.fd(30)\n",
    "            t.lt(90)\n",
    "            t.fd(50)\n",
    "            t.lt(90)\n",
    "            t.lt(45)\n",
    "            t.end_fill()\n",
    "            t.up()\n",
    "            t.fd(10*2**0.5)\n",
    "            t.down()\n",
    "            t.rt(45)\n",
    "            t.fd(10)\n",
    "            t.lt(90)\n",
    "            t.fd(20)\n",
    "            t.lt(90)\n",
    "            t.fd(10)\n",
    "            t.lt(90)\n",
    "            t.fd(20)\n",
    "            t.lt(90)\n",
    "            t.lt(45)\n",
    "            t.rt(45)\n",
    "            y=y+50\n",
    "        x=x+30\n",
    "        y=0\n",
    "chunhat(-120,0,'green')\n",
    "chunhat(0,0,'red')\n",
    "chunhat(120,0,'blue')"
   ]
  },
  {
   "cell_type": "code",
   "execution_count": null,
   "id": "3dc46bb4",
   "metadata": {},
   "outputs": [],
   "source": []
  }
 ],
 "metadata": {
  "kernelspec": {
   "display_name": "Python 3",
   "language": "python",
   "name": "python3"
  },
  "language_info": {
   "codemirror_mode": {
    "name": "ipython",
    "version": 3
   },
   "file_extension": ".py",
   "mimetype": "text/x-python",
   "name": "python",
   "nbconvert_exporter": "python",
   "pygments_lexer": "ipython3",
   "version": "3.8.8"
  }
 },
 "nbformat": 4,
 "nbformat_minor": 5
}
