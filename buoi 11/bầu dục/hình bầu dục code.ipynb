{
 "cells": [
  {
   "cell_type": "code",
   "execution_count": 2,
   "id": "2e7c6379",
   "metadata": {},
   "outputs": [],
   "source": [
    "import turtle as pen\n",
    "pen.speed(0)\n",
    "k=80\n",
    "a=0\n",
    "while (a<72):\n",
    "    pen.circle(k,90)\n",
    "    pen.circle(k//2,90)\n",
    "    if(a%2==0):\n",
    "        pen.rt(10)\n",
    "    a+=1"
   ]
  },
  {
   "cell_type": "code",
   "execution_count": null,
   "id": "1aee5153",
   "metadata": {},
   "outputs": [],
   "source": []
  }
 ],
 "metadata": {
  "kernelspec": {
   "display_name": "Python 3",
   "language": "python",
   "name": "python3"
  },
  "language_info": {
   "codemirror_mode": {
    "name": "ipython",
    "version": 3
   },
   "file_extension": ".py",
   "mimetype": "text/x-python",
   "name": "python",
   "nbconvert_exporter": "python",
   "pygments_lexer": "ipython3",
   "version": "3.8.8"
  }
 },
 "nbformat": 4,
 "nbformat_minor": 5
}
