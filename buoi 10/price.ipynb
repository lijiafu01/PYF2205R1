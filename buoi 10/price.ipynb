{
 "cells": [
  {
   "cell_type": "code",
   "execution_count": 1,
   "id": "7ac81dc1",
   "metadata": {},
   "outputs": [
    {
     "name": "stdout",
     "output_type": "stream",
     "text": [
      "Give me a price: 666\n",
      "Total:  616\n"
     ]
    }
   ],
   "source": [
    "a = int(input(\"Give me a price: \"))\n",
    "if a >= 150:\n",
    "    print(\"Total: \", a - 50)\n",
    "elif a >= 100:\n",
    "    print(\"Total: \", a - 25)\n",
    "elif a >= 75:\n",
    "    print(\"Total: \", a - 15)\n",
    "else:\n",
    "    print(\"Total: \", a)"
   ]
  }
 ],
 "metadata": {
  "kernelspec": {
   "display_name": "Python 3",
   "language": "python",
   "name": "python3"
  },
  "language_info": {
   "codemirror_mode": {
    "name": "ipython",
    "version": 3
   },
   "file_extension": ".py",
   "mimetype": "text/x-python",
   "name": "python",
   "nbconvert_exporter": "python",
   "pygments_lexer": "ipython3",
   "version": "3.8.8"
  }
 },
 "nbformat": 4,
 "nbformat_minor": 5
}
