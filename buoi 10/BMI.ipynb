{
 "cells": [
  {
   "cell_type": "code",
   "execution_count": 1,
   "id": "e020e6be",
   "metadata": {},
   "outputs": [
    {
     "name": "stdout",
     "output_type": "stream",
     "text": [
      "nhập cân nặng: 55\n",
      "nhập chiều cao: 1.7\n",
      "bình thường\n"
     ]
    }
   ],
   "source": [
    "w = float(input('nhập cân nặng: '))\n",
    "h = float(input('nhập chiều cao: '))\n",
    "BMI= w/h**2\n",
    "if BMI > 40:\n",
    "    print('béo phì cấp độ III')\n",
    "elif 35 <= BMI < 40:\n",
    "    print('béo phì cấp độ II')\n",
    "elif 30 <= BMI < 35:\n",
    "    print('béo phì cấp độ I')\n",
    "elif 25 <= BMI < 30:\n",
    "    print('thừa cân')\n",
    "elif 18.5 <= BMI < 25:\n",
    "    print('bình thường')\n",
    "elif 17 <= BMI < 18.5:\n",
    "    print('gầy cấp độ I')\n",
    "elif 16 <= BMI < 17:\n",
    "    print('gầy cấp độ II')\n",
    "else:\n",
    "    print('gầy cấp độ III')"
   ]
  }
 ],
 "metadata": {
  "kernelspec": {
   "display_name": "Python 3",
   "language": "python",
   "name": "python3"
  },
  "language_info": {
   "codemirror_mode": {
    "name": "ipython",
    "version": 3
   },
   "file_extension": ".py",
   "mimetype": "text/x-python",
   "name": "python",
   "nbconvert_exporter": "python",
   "pygments_lexer": "ipython3",
   "version": "3.8.8"
  }
 },
 "nbformat": 4,
 "nbformat_minor": 5
}
