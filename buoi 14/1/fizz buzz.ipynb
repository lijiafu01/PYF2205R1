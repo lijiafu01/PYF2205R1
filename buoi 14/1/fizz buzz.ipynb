{
 "cells": [
  {
   "cell_type": "code",
   "execution_count": null,
   "id": "1ac1854d",
   "metadata": {},
   "outputs": [],
   "source": [
    "a=int(input())\n",
    "b=int(input())\n",
    "for i in range(a,b+1):\n",
    "    if(i%3==0 and i%5==0):\n",
    "        print(i,\"FizzBuzz\")\n",
    "    elif(i%3==0):\n",
    "        print(i,\"Fizz\")\n",
    "    elif(i%5==0):\n",
    "        print(i,\"Buzz\")\n",
    "    elif(i==b):\n",
    "        print(\"không có số chia hết cho 3 và 5!\")"
   ]
  }
 ],
 "metadata": {
  "kernelspec": {
   "display_name": "Python 3",
   "language": "python",
   "name": "python3"
  },
  "language_info": {
   "codemirror_mode": {
    "name": "ipython",
    "version": 3
   },
   "file_extension": ".py",
   "mimetype": "text/x-python",
   "name": "python",
   "nbconvert_exporter": "python",
   "pygments_lexer": "ipython3",
   "version": "3.8.8"
  }
 },
 "nbformat": 4,
 "nbformat_minor": 5
}
